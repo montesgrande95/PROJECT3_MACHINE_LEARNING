{
 "cells": [
  {
   "cell_type": "markdown",
   "metadata": {},
   "source": [
    "LO PRIMERO QUE NOS INTERESA SABER ES LA CORRELACION QUE TENEMOS DE CADA VARIABLE CON EL PRECIO, DE LAS VARIABLES QUE AUN NO HEMOS PASADO A DUMMIES"
   ]
  },
  {
   "cell_type": "code",
   "execution_count": 7,
   "metadata": {},
   "outputs": [],
   "source": [
    "import pandas as pd\n",
    "import numpy as np\n",
    "import os\n",
    "import sqlalchemy\n",
    "import sqlite3 as sql\n",
    "from sklearn.linear_model import LinearRegression\n",
    "import numpy as np\n",
    "import pandas as pd\n",
    "import matplotlib.pyplot as plt\n",
    "\n",
    "from sklearn import datasets\n",
    "from sklearn.datasets import make_regression\n",
    "from sklearn.model_selection import train_test_split\n",
    "import pickle\n",
    "import joblib\n",
    "\n",
    "from sklearn.linear_model import LinearRegression\n",
    "from sklearn.ensemble import RandomForestRegressor\n",
    "\n",
    "from sklearn.metrics import mean_squared_error\n",
    "from sklearn.metrics import r2_score\n",
    "from sklearn.preprocessing import StandardScaler\n",
    "from sklearn.preprocessing import RobustScaler\n",
    "from sklearn.preprocessing import MinMaxScaler\n",
    "\n",
    "\n",
    "database = \"../KAGGLE_PRUBAS_DATA/DATA/diamonds_train.db\"\n",
    "connection = sql.connect(database)\n",
    "\n",
    "query = '''SELECT tr.index_id, c.clarity, cl.color, ct.cut, dm.depth, dm.'table', dm.x, dm.y, dm.z, tr.price, ci.city, tr.carat\n",
    "FROM diamonds_properties pr\n",
    "   INNER JOIN diamonds_clarity c ON pr.clarity_id = c.clarity_id\n",
    "   INNER JOIN diamonds_color cl on pr.color_id = cl.color_id\n",
    "   INNER JOIN diamonds_cut ct on pr.cut_id = ct.cut_id\n",
    "   INNER JOIN diamonds_dimensions dm on pr.index_id = dm.index_id\n",
    "   INNER JOIN diamonds_transactional tr on pr.index_id = tr.index_id\n",
    "   INNER JOIN diamonds_city ci on tr.city_id = ci.city_id'''\n",
    "\n",
    "diamonds = pd.read_sql_query(query,connection)\n",
    "\n",
    "\n",
    "\n"
   ]
  },
  {
   "cell_type": "code",
   "execution_count": 8,
   "metadata": {},
   "outputs": [
    {
     "data": {
      "text/html": [
       "<div>\n",
       "<style scoped>\n",
       "    .dataframe tbody tr th:only-of-type {\n",
       "        vertical-align: middle;\n",
       "    }\n",
       "\n",
       "    .dataframe tbody tr th {\n",
       "        vertical-align: top;\n",
       "    }\n",
       "\n",
       "    .dataframe thead th {\n",
       "        text-align: right;\n",
       "    }\n",
       "</style>\n",
       "<table border=\"1\" class=\"dataframe\">\n",
       "  <thead>\n",
       "    <tr style=\"text-align: right;\">\n",
       "      <th></th>\n",
       "      <th>index_id</th>\n",
       "      <th>clarity</th>\n",
       "      <th>color</th>\n",
       "      <th>cut</th>\n",
       "      <th>depth</th>\n",
       "      <th>table</th>\n",
       "      <th>x</th>\n",
       "      <th>y</th>\n",
       "      <th>z</th>\n",
       "      <th>price</th>\n",
       "      <th>city</th>\n",
       "      <th>carat</th>\n",
       "    </tr>\n",
       "  </thead>\n",
       "  <tbody>\n",
       "    <tr>\n",
       "      <th>0</th>\n",
       "      <td>5feceb66ffc86f38d952786c6d696c79c2dbc239dd4e91...</td>\n",
       "      <td>VS2</td>\n",
       "      <td>J</td>\n",
       "      <td>Premium</td>\n",
       "      <td>62.4</td>\n",
       "      <td>58.0</td>\n",
       "      <td>6.83</td>\n",
       "      <td>6.79</td>\n",
       "      <td>4.25</td>\n",
       "      <td>4268</td>\n",
       "      <td>Dubai</td>\n",
       "      <td>1.21</td>\n",
       "    </tr>\n",
       "    <tr>\n",
       "      <th>1</th>\n",
       "      <td>6b86b273ff34fce19d6b804eff5a3f5747ada4eaa22f1d...</td>\n",
       "      <td>VS2</td>\n",
       "      <td>H</td>\n",
       "      <td>Very Good</td>\n",
       "      <td>63.0</td>\n",
       "      <td>57.0</td>\n",
       "      <td>4.35</td>\n",
       "      <td>4.38</td>\n",
       "      <td>2.75</td>\n",
       "      <td>505</td>\n",
       "      <td>Kimberly</td>\n",
       "      <td>0.32</td>\n",
       "    </tr>\n",
       "    <tr>\n",
       "      <th>2</th>\n",
       "      <td>d4735e3a265e16eee03f59718b9b5d03019c07d8b6c51f...</td>\n",
       "      <td>VS1</td>\n",
       "      <td>G</td>\n",
       "      <td>Fair</td>\n",
       "      <td>65.5</td>\n",
       "      <td>55.0</td>\n",
       "      <td>5.62</td>\n",
       "      <td>5.53</td>\n",
       "      <td>3.65</td>\n",
       "      <td>2686</td>\n",
       "      <td>Las Vegas</td>\n",
       "      <td>0.71</td>\n",
       "    </tr>\n",
       "    <tr>\n",
       "      <th>3</th>\n",
       "      <td>4e07408562bedb8b60ce05c1decfe3ad16b72230967de0...</td>\n",
       "      <td>SI1</td>\n",
       "      <td>D</td>\n",
       "      <td>Good</td>\n",
       "      <td>63.8</td>\n",
       "      <td>56.0</td>\n",
       "      <td>4.68</td>\n",
       "      <td>4.72</td>\n",
       "      <td>3.00</td>\n",
       "      <td>738</td>\n",
       "      <td>Kimberly</td>\n",
       "      <td>0.41</td>\n",
       "    </tr>\n",
       "    <tr>\n",
       "      <th>4</th>\n",
       "      <td>4b227777d4dd1fc61c6f884f48641d02b4d121d3fd328c...</td>\n",
       "      <td>SI1</td>\n",
       "      <td>G</td>\n",
       "      <td>Ideal</td>\n",
       "      <td>60.5</td>\n",
       "      <td>59.0</td>\n",
       "      <td>6.55</td>\n",
       "      <td>6.51</td>\n",
       "      <td>3.95</td>\n",
       "      <td>4882</td>\n",
       "      <td>Dubai</td>\n",
       "      <td>1.02</td>\n",
       "    </tr>\n",
       "  </tbody>\n",
       "</table>\n",
       "</div>"
      ],
      "text/plain": [
       "                                            index_id clarity color        cut  \\\n",
       "0  5feceb66ffc86f38d952786c6d696c79c2dbc239dd4e91...     VS2     J    Premium   \n",
       "1  6b86b273ff34fce19d6b804eff5a3f5747ada4eaa22f1d...     VS2     H  Very Good   \n",
       "2  d4735e3a265e16eee03f59718b9b5d03019c07d8b6c51f...     VS1     G       Fair   \n",
       "3  4e07408562bedb8b60ce05c1decfe3ad16b72230967de0...     SI1     D       Good   \n",
       "4  4b227777d4dd1fc61c6f884f48641d02b4d121d3fd328c...     SI1     G      Ideal   \n",
       "\n",
       "   depth  table     x     y     z  price       city  carat  \n",
       "0   62.4   58.0  6.83  6.79  4.25   4268      Dubai   1.21  \n",
       "1   63.0   57.0  4.35  4.38  2.75    505   Kimberly   0.32  \n",
       "2   65.5   55.0  5.62  5.53  3.65   2686  Las Vegas   0.71  \n",
       "3   63.8   56.0  4.68  4.72  3.00    738   Kimberly   0.41  \n",
       "4   60.5   59.0  6.55  6.51  3.95   4882      Dubai   1.02  "
      ]
     },
     "execution_count": 8,
     "metadata": {},
     "output_type": "execute_result"
    }
   ],
   "source": [
    "diamonds.head()"
   ]
  },
  {
   "cell_type": "code",
   "execution_count": 9,
   "metadata": {},
   "outputs": [
    {
     "data": {
      "text/html": [
       "<div>\n",
       "<style scoped>\n",
       "    .dataframe tbody tr th:only-of-type {\n",
       "        vertical-align: middle;\n",
       "    }\n",
       "\n",
       "    .dataframe tbody tr th {\n",
       "        vertical-align: top;\n",
       "    }\n",
       "\n",
       "    .dataframe thead th {\n",
       "        text-align: right;\n",
       "    }\n",
       "</style>\n",
       "<table border=\"1\" class=\"dataframe\">\n",
       "  <thead>\n",
       "    <tr style=\"text-align: right;\">\n",
       "      <th></th>\n",
       "      <th>depth</th>\n",
       "      <th>table</th>\n",
       "      <th>x</th>\n",
       "      <th>y</th>\n",
       "      <th>z</th>\n",
       "      <th>carat</th>\n",
       "      <th>price</th>\n",
       "    </tr>\n",
       "  </thead>\n",
       "  <tbody>\n",
       "    <tr>\n",
       "      <th>0</th>\n",
       "      <td>62.4</td>\n",
       "      <td>58.0</td>\n",
       "      <td>6.83</td>\n",
       "      <td>6.79</td>\n",
       "      <td>4.25</td>\n",
       "      <td>1.21</td>\n",
       "      <td>4268</td>\n",
       "    </tr>\n",
       "    <tr>\n",
       "      <th>1</th>\n",
       "      <td>63.0</td>\n",
       "      <td>57.0</td>\n",
       "      <td>4.35</td>\n",
       "      <td>4.38</td>\n",
       "      <td>2.75</td>\n",
       "      <td>0.32</td>\n",
       "      <td>505</td>\n",
       "    </tr>\n",
       "    <tr>\n",
       "      <th>2</th>\n",
       "      <td>65.5</td>\n",
       "      <td>55.0</td>\n",
       "      <td>5.62</td>\n",
       "      <td>5.53</td>\n",
       "      <td>3.65</td>\n",
       "      <td>0.71</td>\n",
       "      <td>2686</td>\n",
       "    </tr>\n",
       "    <tr>\n",
       "      <th>3</th>\n",
       "      <td>63.8</td>\n",
       "      <td>56.0</td>\n",
       "      <td>4.68</td>\n",
       "      <td>4.72</td>\n",
       "      <td>3.00</td>\n",
       "      <td>0.41</td>\n",
       "      <td>738</td>\n",
       "    </tr>\n",
       "    <tr>\n",
       "      <th>4</th>\n",
       "      <td>60.5</td>\n",
       "      <td>59.0</td>\n",
       "      <td>6.55</td>\n",
       "      <td>6.51</td>\n",
       "      <td>3.95</td>\n",
       "      <td>1.02</td>\n",
       "      <td>4882</td>\n",
       "    </tr>\n",
       "  </tbody>\n",
       "</table>\n",
       "</div>"
      ],
      "text/plain": [
       "   depth  table     x     y     z  carat  price\n",
       "0   62.4   58.0  6.83  6.79  4.25   1.21   4268\n",
       "1   63.0   57.0  4.35  4.38  2.75   0.32    505\n",
       "2   65.5   55.0  5.62  5.53  3.65   0.71   2686\n",
       "3   63.8   56.0  4.68  4.72  3.00   0.41    738\n",
       "4   60.5   59.0  6.55  6.51  3.95   1.02   4882"
      ]
     },
     "execution_count": 9,
     "metadata": {},
     "output_type": "execute_result"
    }
   ],
   "source": [
    "columnas = [\"depth\",\"table\",\"x\",\"y\",\"z\",\"carat\",\"price\"]\n",
    "diamonds_correlacion = diamonds[columnas]\n",
    "diamonds_correlacion.head()\n"
   ]
  },
  {
   "cell_type": "markdown",
   "metadata": {},
   "source": [
    "CORRELAC ENTRE DEPTH Y PRICE "
   ]
  },
  {
   "cell_type": "code",
   "execution_count": 10,
   "metadata": {},
   "outputs": [
    {
     "name": "stderr",
     "output_type": "stream",
     "text": [
      "/var/folders/y7/0kpvlnh10_q_n3y4x22wmk840000gn/T/ipykernel_5409/4096958333.py:1: SettingWithCopyWarning: \n",
      "A value is trying to be set on a copy of a slice from a DataFrame.\n",
      "Try using .loc[row_indexer,col_indexer] = value instead\n",
      "\n",
      "See the caveats in the documentation: https://pandas.pydata.org/pandas-docs/stable/user_guide/indexing.html#returning-a-view-versus-a-copy\n",
      "  diamonds_correlacion[\"corrnumerador_depth\"] = (diamonds_correlacion[\"depth\"] - np.mean(diamonds_correlacion[\"depth\"]))* (diamonds_correlacion[\"price\"] - np.mean(diamonds_correlacion[\"price\"]))\n",
      "/var/folders/y7/0kpvlnh10_q_n3y4x22wmk840000gn/T/ipykernel_5409/4096958333.py:2: SettingWithCopyWarning: \n",
      "A value is trying to be set on a copy of a slice from a DataFrame.\n",
      "Try using .loc[row_indexer,col_indexer] = value instead\n",
      "\n",
      "See the caveats in the documentation: https://pandas.pydata.org/pandas-docs/stable/user_guide/indexing.html#returning-a-view-versus-a-copy\n",
      "  diamonds_correlacion[\"corr1_depth\"] = (diamonds_correlacion[\"depth\"] - np.mean(diamonds_correlacion[\"depth\"]))** 2\n",
      "/var/folders/y7/0kpvlnh10_q_n3y4x22wmk840000gn/T/ipykernel_5409/4096958333.py:3: SettingWithCopyWarning: \n",
      "A value is trying to be set on a copy of a slice from a DataFrame.\n",
      "Try using .loc[row_indexer,col_indexer] = value instead\n",
      "\n",
      "See the caveats in the documentation: https://pandas.pydata.org/pandas-docs/stable/user_guide/indexing.html#returning-a-view-versus-a-copy\n",
      "  diamonds_correlacion[\"corr2_depth\"] = (diamonds_correlacion[\"price\"] - np.mean(diamonds_correlacion[\"price\"]))** 2\n"
     ]
    },
    {
     "data": {
      "text/plain": [
       "-0.014864269575235796"
      ]
     },
     "execution_count": 10,
     "metadata": {},
     "output_type": "execute_result"
    }
   ],
   "source": [
    "diamonds_correlacion[\"corrnumerador_depth\"] = (diamonds_correlacion[\"depth\"] - np.mean(diamonds_correlacion[\"depth\"]))* (diamonds_correlacion[\"price\"] - np.mean(diamonds_correlacion[\"price\"]))\n",
    "diamonds_correlacion[\"corr1_depth\"] = (diamonds_correlacion[\"depth\"] - np.mean(diamonds_correlacion[\"depth\"]))** 2\n",
    "diamonds_correlacion[\"corr2_depth\"] = (diamonds_correlacion[\"price\"] - np.mean(diamonds_correlacion[\"price\"]))** 2\n",
    "CORR_DEPTH_PRICE = sum(diamonds_correlacion[\"corrnumerador_depth\"])/np.sqrt(sum(diamonds_correlacion[\"corr1_depth\"])* sum(diamonds_correlacion[\"corr2_depth\"]))\n",
    "CORR_DEPTH_PRICE"
   ]
  },
  {
   "cell_type": "markdown",
   "metadata": {},
   "source": [
    "CORRELACION TABLE - PRICE "
   ]
  },
  {
   "cell_type": "code",
   "execution_count": 11,
   "metadata": {},
   "outputs": [
    {
     "name": "stderr",
     "output_type": "stream",
     "text": [
      "/var/folders/y7/0kpvlnh10_q_n3y4x22wmk840000gn/T/ipykernel_5409/3827131147.py:1: SettingWithCopyWarning: \n",
      "A value is trying to be set on a copy of a slice from a DataFrame.\n",
      "Try using .loc[row_indexer,col_indexer] = value instead\n",
      "\n",
      "See the caveats in the documentation: https://pandas.pydata.org/pandas-docs/stable/user_guide/indexing.html#returning-a-view-versus-a-copy\n",
      "  diamonds_correlacion[\"corrnumerador_table\"] = (diamonds_correlacion[\"table\"] - np.mean(diamonds_correlacion[\"table\"]))* (diamonds_correlacion[\"price\"] - np.mean(diamonds_correlacion[\"price\"]))\n"
     ]
    },
    {
     "data": {
      "text/plain": [
       "0.1301105236189345"
      ]
     },
     "execution_count": 11,
     "metadata": {},
     "output_type": "execute_result"
    }
   ],
   "source": [
    "diamonds_correlacion[\"corrnumerador_table\"] = (diamonds_correlacion[\"table\"] - np.mean(diamonds_correlacion[\"table\"]))* (diamonds_correlacion[\"price\"] - np.mean(diamonds_correlacion[\"price\"]))\n",
    "diamonds_correlacion[\"corr1_table\"] = (diamonds_correlacion[\"table\"] - np.mean(diamonds_correlacion[\"table\"]))** 2\n",
    "diamonds_correlacion[\"corr2_table\"] = (diamonds_correlacion[\"price\"] - np.mean(diamonds_correlacion[\"price\"]))** 2\n",
    "CORR_TABLE_PRICE = sum(diamonds_correlacion[\"corrnumerador_table\"])/np.sqrt(sum(diamonds_correlacion[\"corr1_table\"])* sum(diamonds_correlacion[\"corr2_table\"]))\n",
    "CORR_TABLE_PRICE"
   ]
  },
  {
   "cell_type": "markdown",
   "metadata": {},
   "source": [
    "CORRELACION X - PRICE"
   ]
  },
  {
   "cell_type": "code",
   "execution_count": 12,
   "metadata": {},
   "outputs": [
    {
     "data": {
      "text/plain": [
       "0.8858479443767979"
      ]
     },
     "execution_count": 12,
     "metadata": {},
     "output_type": "execute_result"
    }
   ],
   "source": [
    "diamonds_correlacion[\"corrnumerador_x\"] = (diamonds_correlacion[\"x\"] - np.mean(diamonds_correlacion[\"x\"]))* (diamonds_correlacion[\"price\"] - np.mean(diamonds_correlacion[\"price\"]))\n",
    "diamonds_correlacion[\"corr1_x\"] = (diamonds_correlacion[\"x\"] - np.mean(diamonds_correlacion[\"x\"]))** 2\n",
    "diamonds_correlacion[\"corr2_x\"] = (diamonds_correlacion[\"price\"] - np.mean(diamonds_correlacion[\"price\"]))** 2\n",
    "CORR_X_PRICE = sum(diamonds_correlacion[\"corrnumerador_x\"])/np.sqrt(sum(diamonds_correlacion[\"corr1_x\"])* sum(diamonds_correlacion[\"corr2_x\"]))\n",
    "CORR_X_PRICE"
   ]
  },
  {
   "cell_type": "markdown",
   "metadata": {},
   "source": [
    "CORRELACION Y - PRICE "
   ]
  },
  {
   "cell_type": "code",
   "execution_count": 13,
   "metadata": {},
   "outputs": [
    {
     "data": {
      "text/plain": [
       "0.8661632281914176"
      ]
     },
     "execution_count": 13,
     "metadata": {},
     "output_type": "execute_result"
    }
   ],
   "source": [
    "diamonds_correlacion[\"corrnumerador_y\"] = (diamonds_correlacion[\"y\"] - np.mean(diamonds_correlacion[\"y\"]))* (diamonds_correlacion[\"price\"] - np.mean(diamonds_correlacion[\"price\"]))\n",
    "diamonds_correlacion[\"corr1_y\"] = (diamonds_correlacion[\"y\"] - np.mean(diamonds_correlacion[\"y\"]))** 2\n",
    "diamonds_correlacion[\"corr2_y\"] = (diamonds_correlacion[\"price\"] - np.mean(diamonds_correlacion[\"price\"]))** 2\n",
    "CORR_Y_PRICE = sum(diamonds_correlacion[\"corrnumerador_y\"])/np.sqrt(sum(diamonds_correlacion[\"corr1_y\"])* sum(diamonds_correlacion[\"corr2_y\"]))\n",
    "CORR_Y_PRICE"
   ]
  },
  {
   "cell_type": "markdown",
   "metadata": {},
   "source": [
    "CORRELACION Z - PRICE"
   ]
  },
  {
   "cell_type": "code",
   "execution_count": 14,
   "metadata": {},
   "outputs": [
    {
     "data": {
      "text/plain": [
       "0.8745004883098441"
      ]
     },
     "execution_count": 14,
     "metadata": {},
     "output_type": "execute_result"
    }
   ],
   "source": [
    "diamonds_correlacion[\"corrnumerador_z\"] = (diamonds_correlacion[\"z\"] - np.mean(diamonds_correlacion[\"z\"]))* (diamonds_correlacion[\"price\"] - np.mean(diamonds_correlacion[\"price\"]))\n",
    "diamonds_correlacion[\"corr1_z\"] = (diamonds_correlacion[\"z\"] - np.mean(diamonds_correlacion[\"z\"]))** 2\n",
    "diamonds_correlacion[\"corr2_z\"] = (diamonds_correlacion[\"price\"] - np.mean(diamonds_correlacion[\"price\"]))** 2\n",
    "CORR_Z_PRICE = sum(diamonds_correlacion[\"corrnumerador_z\"])/np.sqrt(sum(diamonds_correlacion[\"corr1_z\"])* sum(diamonds_correlacion[\"corr2_z\"]))\n",
    "CORR_Z_PRICE"
   ]
  },
  {
   "cell_type": "markdown",
   "metadata": {},
   "source": [
    "CORRELACION CARAT - PRICE"
   ]
  },
  {
   "cell_type": "code",
   "execution_count": 15,
   "metadata": {},
   "outputs": [
    {
     "data": {
      "text/plain": [
       "0.9219351745876729"
      ]
     },
     "execution_count": 15,
     "metadata": {},
     "output_type": "execute_result"
    }
   ],
   "source": [
    "diamonds_correlacion[\"corrnumerador_carat\"] = (diamonds_correlacion[\"carat\"] - np.mean(diamonds_correlacion[\"carat\"]))* (diamonds_correlacion[\"price\"] - np.mean(diamonds_correlacion[\"price\"]))\n",
    "diamonds_correlacion[\"corr1_carat\"] = (diamonds_correlacion[\"carat\"] - np.mean(diamonds_correlacion[\"carat\"]))** 2\n",
    "diamonds_correlacion[\"corr2_carat\"] = (diamonds_correlacion[\"price\"] - np.mean(diamonds_correlacion[\"price\"]))** 2\n",
    "CORR_CARAT_PRICE = sum(diamonds_correlacion[\"corrnumerador_carat\"])/np.sqrt(sum(diamonds_correlacion[\"corr1_carat\"])* sum(diamonds_correlacion[\"corr2_carat\"]))\n",
    "CORR_CARAT_PRICE"
   ]
  },
  {
   "cell_type": "markdown",
   "metadata": {},
   "source": [
    "SACAMOS EN CONCLUSION QUE DEPTH Y TABLE NOS LAS PODEMOS QUITAR "
   ]
  },
  {
   "cell_type": "markdown",
   "metadata": {},
   "source": [
    "VAMOS A CREAR DOS NUEVAS COLUMNAS, UNA QUE SEA DEL VOLUMEN, Y OTRA QUE SEA DEL VOLUMEN/CARAT = DENSIDAD"
   ]
  },
  {
   "cell_type": "code",
   "execution_count": 22,
   "metadata": {},
   "outputs": [],
   "source": [
    "diamonds_correlacion[\"volumen\"] = diamonds_correlacion[\"x\"] * diamonds_correlacion[\"y\"] * diamonds_correlacion[\"z\"]\n",
    "diamonds_correlacion[\"densidad\"] =  diamonds_correlacion[\"volumen\"] / diamonds_correlacion[\"carat\"]"
   ]
  },
  {
   "cell_type": "code",
   "execution_count": 23,
   "metadata": {},
   "outputs": [
    {
     "data": {
      "text/html": [
       "<div>\n",
       "<style scoped>\n",
       "    .dataframe tbody tr th:only-of-type {\n",
       "        vertical-align: middle;\n",
       "    }\n",
       "\n",
       "    .dataframe tbody tr th {\n",
       "        vertical-align: top;\n",
       "    }\n",
       "\n",
       "    .dataframe thead th {\n",
       "        text-align: right;\n",
       "    }\n",
       "</style>\n",
       "<table border=\"1\" class=\"dataframe\">\n",
       "  <thead>\n",
       "    <tr style=\"text-align: right;\">\n",
       "      <th></th>\n",
       "      <th>depth</th>\n",
       "      <th>table</th>\n",
       "      <th>x</th>\n",
       "      <th>y</th>\n",
       "      <th>z</th>\n",
       "      <th>carat</th>\n",
       "      <th>price</th>\n",
       "      <th>corrnumerador_depth</th>\n",
       "      <th>corr1_depth</th>\n",
       "      <th>corr2_depth</th>\n",
       "      <th>...</th>\n",
       "      <th>corr2_z</th>\n",
       "      <th>corrnumerador_carat</th>\n",
       "      <th>corr1_carat</th>\n",
       "      <th>corr2_carat</th>\n",
       "      <th>volumen</th>\n",
       "      <th>V/W</th>\n",
       "      <th>corrnumerador_volumen</th>\n",
       "      <th>corr1_volumen</th>\n",
       "      <th>corr2_volumen</th>\n",
       "      <th>densidad</th>\n",
       "    </tr>\n",
       "  </thead>\n",
       "  <tbody>\n",
       "    <tr>\n",
       "      <th>0</th>\n",
       "      <td>62.4</td>\n",
       "      <td>58.0</td>\n",
       "      <td>6.83</td>\n",
       "      <td>6.79</td>\n",
       "      <td>4.25</td>\n",
       "      <td>1.21</td>\n",
       "      <td>4268</td>\n",
       "      <td>219.746272</td>\n",
       "      <td>0.418814</td>\n",
       "      <td>1.152980e+05</td>\n",
       "      <td>...</td>\n",
       "      <td>1.152980e+05</td>\n",
       "      <td>139.996844</td>\n",
       "      <td>0.169987</td>\n",
       "      <td>1.152980e+05</td>\n",
       "      <td>197.096725</td>\n",
       "      <td>162.889855</td>\n",
       "      <td>22850.207958</td>\n",
       "      <td>4528.545088</td>\n",
       "      <td>1.152980e+05</td>\n",
       "      <td>162.889855</td>\n",
       "    </tr>\n",
       "    <tr>\n",
       "      <th>1</th>\n",
       "      <td>63.0</td>\n",
       "      <td>57.0</td>\n",
       "      <td>4.35</td>\n",
       "      <td>4.38</td>\n",
       "      <td>2.75</td>\n",
       "      <td>0.32</td>\n",
       "      <td>505</td>\n",
       "      <td>-4269.578113</td>\n",
       "      <td>1.555405</td>\n",
       "      <td>1.171997e+07</td>\n",
       "      <td>...</td>\n",
       "      <td>1.171997e+07</td>\n",
       "      <td>1635.398590</td>\n",
       "      <td>0.228203</td>\n",
       "      <td>1.171997e+07</td>\n",
       "      <td>52.395750</td>\n",
       "      <td>163.736719</td>\n",
       "      <td>264996.886801</td>\n",
       "      <td>5991.767712</td>\n",
       "      <td>1.171997e+07</td>\n",
       "      <td>163.736719</td>\n",
       "    </tr>\n",
       "    <tr>\n",
       "      <th>2</th>\n",
       "      <td>65.5</td>\n",
       "      <td>55.0</td>\n",
       "      <td>5.62</td>\n",
       "      <td>5.53</td>\n",
       "      <td>3.65</td>\n",
       "      <td>0.71</td>\n",
       "      <td>2686</td>\n",
       "      <td>-4655.636442</td>\n",
       "      <td>14.041197</td>\n",
       "      <td>1.543668e+06</td>\n",
       "      <td>...</td>\n",
       "      <td>1.543668e+06</td>\n",
       "      <td>108.969336</td>\n",
       "      <td>0.007692</td>\n",
       "      <td>1.543668e+06</td>\n",
       "      <td>113.436890</td>\n",
       "      <td>159.770268</td>\n",
       "      <td>20333.062812</td>\n",
       "      <td>267.825319</td>\n",
       "      <td>1.543668e+06</td>\n",
       "      <td>159.770268</td>\n",
       "    </tr>\n",
       "    <tr>\n",
       "      <th>3</th>\n",
       "      <td>63.8</td>\n",
       "      <td>56.0</td>\n",
       "      <td>4.68</td>\n",
       "      <td>4.72</td>\n",
       "      <td>3.00</td>\n",
       "      <td>0.41</td>\n",
       "      <td>738</td>\n",
       "      <td>-6531.345741</td>\n",
       "      <td>4.190858</td>\n",
       "      <td>1.017894e+07</td>\n",
       "      <td>...</td>\n",
       "      <td>1.017894e+07</td>\n",
       "      <td>1236.953183</td>\n",
       "      <td>0.150316</td>\n",
       "      <td>1.017894e+07</td>\n",
       "      <td>66.268800</td>\n",
       "      <td>161.631220</td>\n",
       "      <td>202699.974446</td>\n",
       "      <td>4036.500475</td>\n",
       "      <td>1.017894e+07</td>\n",
       "      <td>161.631220</td>\n",
       "    </tr>\n",
       "    <tr>\n",
       "      <th>4</th>\n",
       "      <td>60.5</td>\n",
       "      <td>59.0</td>\n",
       "      <td>6.55</td>\n",
       "      <td>6.51</td>\n",
       "      <td>3.95</td>\n",
       "      <td>1.02</td>\n",
       "      <td>4882</td>\n",
       "      <td>-1194.653874</td>\n",
       "      <td>1.569612</td>\n",
       "      <td>9.092682e+05</td>\n",
       "      <td>...</td>\n",
       "      <td>9.092682e+05</td>\n",
       "      <td>211.970056</td>\n",
       "      <td>0.049415</td>\n",
       "      <td>9.092682e+05</td>\n",
       "      <td>168.429975</td>\n",
       "      <td>165.127426</td>\n",
       "      <td>36833.671765</td>\n",
       "      <td>1492.100405</td>\n",
       "      <td>9.092682e+05</td>\n",
       "      <td>165.127426</td>\n",
       "    </tr>\n",
       "  </tbody>\n",
       "</table>\n",
       "<p>5 rows × 31 columns</p>\n",
       "</div>"
      ],
      "text/plain": [
       "   depth  table     x     y     z  carat  price  corrnumerador_depth  \\\n",
       "0   62.4   58.0  6.83  6.79  4.25   1.21   4268           219.746272   \n",
       "1   63.0   57.0  4.35  4.38  2.75   0.32    505         -4269.578113   \n",
       "2   65.5   55.0  5.62  5.53  3.65   0.71   2686         -4655.636442   \n",
       "3   63.8   56.0  4.68  4.72  3.00   0.41    738         -6531.345741   \n",
       "4   60.5   59.0  6.55  6.51  3.95   1.02   4882         -1194.653874   \n",
       "\n",
       "   corr1_depth   corr2_depth  ...       corr2_z  corrnumerador_carat  \\\n",
       "0     0.418814  1.152980e+05  ...  1.152980e+05           139.996844   \n",
       "1     1.555405  1.171997e+07  ...  1.171997e+07          1635.398590   \n",
       "2    14.041197  1.543668e+06  ...  1.543668e+06           108.969336   \n",
       "3     4.190858  1.017894e+07  ...  1.017894e+07          1236.953183   \n",
       "4     1.569612  9.092682e+05  ...  9.092682e+05           211.970056   \n",
       "\n",
       "   corr1_carat   corr2_carat     volumen         V/W  corrnumerador_volumen  \\\n",
       "0     0.169987  1.152980e+05  197.096725  162.889855           22850.207958   \n",
       "1     0.228203  1.171997e+07   52.395750  163.736719          264996.886801   \n",
       "2     0.007692  1.543668e+06  113.436890  159.770268           20333.062812   \n",
       "3     0.150316  1.017894e+07   66.268800  161.631220          202699.974446   \n",
       "4     0.049415  9.092682e+05  168.429975  165.127426           36833.671765   \n",
       "\n",
       "   corr1_volumen  corr2_volumen    densidad  \n",
       "0    4528.545088   1.152980e+05  162.889855  \n",
       "1    5991.767712   1.171997e+07  163.736719  \n",
       "2     267.825319   1.543668e+06  159.770268  \n",
       "3    4036.500475   1.017894e+07  161.631220  \n",
       "4    1492.100405   9.092682e+05  165.127426  \n",
       "\n",
       "[5 rows x 31 columns]"
      ]
     },
     "execution_count": 23,
     "metadata": {},
     "output_type": "execute_result"
    }
   ],
   "source": [
    "diamonds_correlacion.head()"
   ]
  },
  {
   "cell_type": "markdown",
   "metadata": {},
   "source": [
    "AHORA VAMOS A VER QUE CORRELACION TIENEN ESTAS DOS NUEVAS FEATURES QUE HEMOS CREADO CON EL TARGET QUE SERA EL PRECIO "
   ]
  },
  {
   "cell_type": "markdown",
   "metadata": {},
   "source": [
    "CORRELACION ENTRE EL VOLUMEN Y EL PRECIO "
   ]
  },
  {
   "cell_type": "code",
   "execution_count": 24,
   "metadata": {},
   "outputs": [
    {
     "data": {
      "text/plain": [
       "0.898684108795373"
      ]
     },
     "execution_count": 24,
     "metadata": {},
     "output_type": "execute_result"
    }
   ],
   "source": [
    "diamonds_correlacion[\"corrnumerador_volumen\"] = (diamonds_correlacion[\"volumen\"] - np.mean(diamonds_correlacion[\"volumen\"]))* (diamonds_correlacion[\"price\"] - np.mean(diamonds_correlacion[\"price\"]))\n",
    "diamonds_correlacion[\"corr1_volumen\"] = (diamonds_correlacion[\"volumen\"] - np.mean(diamonds_correlacion[\"volumen\"]))** 2\n",
    "diamonds_correlacion[\"corr2_volumen\"] = (diamonds_correlacion[\"price\"] - np.mean(diamonds_correlacion[\"price\"]))** 2\n",
    "CORR_VOLUMEN_PRICE = sum(diamonds_correlacion[\"corrnumerador_volumen\"])/np.sqrt(sum(diamonds_correlacion[\"corr1_volumen\"])* sum(diamonds_correlacion[\"corr2_volumen\"]))\n",
    "CORR_VOLUMEN_PRICE"
   ]
  },
  {
   "cell_type": "markdown",
   "metadata": {},
   "source": [
    "CORRELACION ENTRE LA DENSIDAD Y EL PRECIO"
   ]
  },
  {
   "cell_type": "code",
   "execution_count": 25,
   "metadata": {},
   "outputs": [
    {
     "data": {
      "text/plain": [
       "-0.06382311314668762"
      ]
     },
     "execution_count": 25,
     "metadata": {},
     "output_type": "execute_result"
    }
   ],
   "source": [
    "diamonds_correlacion[\"corrnumerador_densidad\"] = (diamonds_correlacion[\"densidad\"] - np.mean(diamonds_correlacion[\"densidad\"]))* (diamonds_correlacion[\"price\"] - np.mean(diamonds_correlacion[\"price\"]))\n",
    "diamonds_correlacion[\"corr1_densidad\"] = (diamonds_correlacion[\"densidad\"] - np.mean(diamonds_correlacion[\"densidad\"]))** 2\n",
    "diamonds_correlacion[\"corr2_densidad\"] = (diamonds_correlacion[\"price\"] - np.mean(diamonds_correlacion[\"price\"]))** 2\n",
    "CORR_DENSIDAD_PRICE = sum(diamonds_correlacion[\"corrnumerador_densidad\"])/np.sqrt(sum(diamonds_correlacion[\"corr1_densidad\"])* sum(diamonds_correlacion[\"corr2_densidad\"]))\n",
    "CORR_DENSIDAD_PRICE"
   ]
  }
 ],
 "metadata": {
  "interpreter": {
   "hash": "1e1a39f534b48ded80cce15c0ba392c4b835d178b79c1a3945a8fe294d443c93"
  },
  "kernelspec": {
   "display_name": "Python 3.7.11 64-bit ('IRONHACK': conda)",
   "language": "python",
   "name": "python3"
  },
  "language_info": {
   "codemirror_mode": {
    "name": "ipython",
    "version": 3
   },
   "file_extension": ".py",
   "mimetype": "text/x-python",
   "name": "python",
   "nbconvert_exporter": "python",
   "pygments_lexer": "ipython3",
   "version": "3.9.7"
  },
  "orig_nbformat": 4
 },
 "nbformat": 4,
 "nbformat_minor": 2
}
