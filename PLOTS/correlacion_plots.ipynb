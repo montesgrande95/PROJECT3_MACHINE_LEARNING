{
 "cells": [
  {
   "cell_type": "code",
   "execution_count": 1,
   "metadata": {},
   "outputs": [],
   "source": [
    "import pandas as pd\n",
    "import numpy as np\n",
    "import os\n",
    "import sqlalchemy\n",
    "import sqlite3 as sql\n",
    "from sklearn.linear_model import LinearRegression\n",
    "import numpy as np\n",
    "import pandas as pd\n",
    "import matplotlib.pyplot as plt\n",
    "\n",
    "from sklearn import datasets\n",
    "from sklearn.datasets import make_regression\n",
    "from sklearn.model_selection import train_test_split\n",
    "import pickle\n",
    "import joblib\n",
    "\n",
    "from sklearn.linear_model import LinearRegression\n",
    "from sklearn.ensemble import RandomForestRegressor\n",
    "\n",
    "from sklearn.metrics import mean_squared_error\n",
    "from sklearn.metrics import r2_score\n",
    "from sklearn.preprocessing import StandardScaler\n",
    "from sklearn.preprocessing import RobustScaler\n",
    "from sklearn.preprocessing import MinMaxScaler\n",
    "\n",
    "\n",
    "database = \"../KAGGLE_PRUBAS_DATA/DATA/diamonds_train.db\"\n",
    "connection = sql.connect(database)\n",
    "\n",
    "query = '''SELECT tr.index_id, c.clarity, cl.color, ct.cut, dm.depth, dm.'table', dm.x, dm.y, dm.z, tr.price, ci.city, tr.carat\n",
    "FROM diamonds_properties pr\n",
    "   INNER JOIN diamonds_clarity c ON pr.clarity_id = c.clarity_id\n",
    "   INNER JOIN diamonds_color cl on pr.color_id = cl.color_id\n",
    "   INNER JOIN diamonds_cut ct on pr.cut_id = ct.cut_id\n",
    "   INNER JOIN diamonds_dimensions dm on pr.index_id = dm.index_id\n",
    "   INNER JOIN diamonds_transactional tr on pr.index_id = tr.index_id\n",
    "   INNER JOIN diamonds_city ci on tr.city_id = ci.city_id'''\n",
    "\n",
    "diamonds = pd.read_sql_query(query,connection)\n",
    "\n",
    "\n",
    "\n"
   ]
  },
  {
   "cell_type": "code",
   "execution_count": 2,
   "metadata": {},
   "outputs": [
    {
     "data": {
      "text/html": [
       "<div>\n",
       "<style scoped>\n",
       "    .dataframe tbody tr th:only-of-type {\n",
       "        vertical-align: middle;\n",
       "    }\n",
       "\n",
       "    .dataframe tbody tr th {\n",
       "        vertical-align: top;\n",
       "    }\n",
       "\n",
       "    .dataframe thead th {\n",
       "        text-align: right;\n",
       "    }\n",
       "</style>\n",
       "<table border=\"1\" class=\"dataframe\">\n",
       "  <thead>\n",
       "    <tr style=\"text-align: right;\">\n",
       "      <th></th>\n",
       "      <th>depth</th>\n",
       "      <th>table</th>\n",
       "      <th>x</th>\n",
       "      <th>y</th>\n",
       "      <th>z</th>\n",
       "      <th>carat</th>\n",
       "      <th>price</th>\n",
       "    </tr>\n",
       "  </thead>\n",
       "  <tbody>\n",
       "    <tr>\n",
       "      <th>0</th>\n",
       "      <td>62.4</td>\n",
       "      <td>58.0</td>\n",
       "      <td>6.83</td>\n",
       "      <td>6.79</td>\n",
       "      <td>4.25</td>\n",
       "      <td>1.21</td>\n",
       "      <td>4268</td>\n",
       "    </tr>\n",
       "    <tr>\n",
       "      <th>1</th>\n",
       "      <td>63.0</td>\n",
       "      <td>57.0</td>\n",
       "      <td>4.35</td>\n",
       "      <td>4.38</td>\n",
       "      <td>2.75</td>\n",
       "      <td>0.32</td>\n",
       "      <td>505</td>\n",
       "    </tr>\n",
       "    <tr>\n",
       "      <th>2</th>\n",
       "      <td>65.5</td>\n",
       "      <td>55.0</td>\n",
       "      <td>5.62</td>\n",
       "      <td>5.53</td>\n",
       "      <td>3.65</td>\n",
       "      <td>0.71</td>\n",
       "      <td>2686</td>\n",
       "    </tr>\n",
       "    <tr>\n",
       "      <th>3</th>\n",
       "      <td>63.8</td>\n",
       "      <td>56.0</td>\n",
       "      <td>4.68</td>\n",
       "      <td>4.72</td>\n",
       "      <td>3.00</td>\n",
       "      <td>0.41</td>\n",
       "      <td>738</td>\n",
       "    </tr>\n",
       "    <tr>\n",
       "      <th>4</th>\n",
       "      <td>60.5</td>\n",
       "      <td>59.0</td>\n",
       "      <td>6.55</td>\n",
       "      <td>6.51</td>\n",
       "      <td>3.95</td>\n",
       "      <td>1.02</td>\n",
       "      <td>4882</td>\n",
       "    </tr>\n",
       "  </tbody>\n",
       "</table>\n",
       "</div>"
      ],
      "text/plain": [
       "   depth  table     x     y     z  carat  price\n",
       "0   62.4   58.0  6.83  6.79  4.25   1.21   4268\n",
       "1   63.0   57.0  4.35  4.38  2.75   0.32    505\n",
       "2   65.5   55.0  5.62  5.53  3.65   0.71   2686\n",
       "3   63.8   56.0  4.68  4.72  3.00   0.41    738\n",
       "4   60.5   59.0  6.55  6.51  3.95   1.02   4882"
      ]
     },
     "execution_count": 2,
     "metadata": {},
     "output_type": "execute_result"
    }
   ],
   "source": [
    "columnas = [\"depth\",\"table\",\"x\",\"y\",\"z\",\"carat\",\"price\"]\n",
    "diamonds_correlacion = diamonds[columnas]\n",
    "diamonds_correlacion.head()"
   ]
  },
  {
   "cell_type": "markdown",
   "metadata": {},
   "source": [
    "CREAMOS DOS NUEVAS COLUMNAS UNA DE VOLUMEN Y OTRA DE DENSIDAD"
   ]
  },
  {
   "cell_type": "code",
   "execution_count": 3,
   "metadata": {},
   "outputs": [
    {
     "name": "stderr",
     "output_type": "stream",
     "text": [
      "/var/folders/y7/0kpvlnh10_q_n3y4x22wmk840000gn/T/ipykernel_6516/1064978677.py:1: SettingWithCopyWarning: \n",
      "A value is trying to be set on a copy of a slice from a DataFrame.\n",
      "Try using .loc[row_indexer,col_indexer] = value instead\n",
      "\n",
      "See the caveats in the documentation: https://pandas.pydata.org/pandas-docs/stable/user_guide/indexing.html#returning-a-view-versus-a-copy\n",
      "  diamonds_correlacion[\"volumen\"] = diamonds_correlacion[\"x\"] * diamonds_correlacion[\"y\"] * diamonds_correlacion[\"z\"]\n",
      "/var/folders/y7/0kpvlnh10_q_n3y4x22wmk840000gn/T/ipykernel_6516/1064978677.py:2: SettingWithCopyWarning: \n",
      "A value is trying to be set on a copy of a slice from a DataFrame.\n",
      "Try using .loc[row_indexer,col_indexer] = value instead\n",
      "\n",
      "See the caveats in the documentation: https://pandas.pydata.org/pandas-docs/stable/user_guide/indexing.html#returning-a-view-versus-a-copy\n",
      "  diamonds_correlacion[\"densidad\"] =  diamonds_correlacion[\"volumen\"] / diamonds_correlacion[\"carat\"]\n"
     ]
    }
   ],
   "source": [
    "diamonds_correlacion[\"volumen\"] = diamonds_correlacion[\"x\"] * diamonds_correlacion[\"y\"] * diamonds_correlacion[\"z\"]\n",
    "diamonds_correlacion[\"densidad\"] =  diamonds_correlacion[\"volumen\"] / diamonds_correlacion[\"carat\"]"
   ]
  },
  {
   "cell_type": "code",
   "execution_count": 4,
   "metadata": {},
   "outputs": [
    {
     "data": {
      "text/html": [
       "<div>\n",
       "<style scoped>\n",
       "    .dataframe tbody tr th:only-of-type {\n",
       "        vertical-align: middle;\n",
       "    }\n",
       "\n",
       "    .dataframe tbody tr th {\n",
       "        vertical-align: top;\n",
       "    }\n",
       "\n",
       "    .dataframe thead th {\n",
       "        text-align: right;\n",
       "    }\n",
       "</style>\n",
       "<table border=\"1\" class=\"dataframe\">\n",
       "  <thead>\n",
       "    <tr style=\"text-align: right;\">\n",
       "      <th></th>\n",
       "      <th>depth</th>\n",
       "      <th>table</th>\n",
       "      <th>x</th>\n",
       "      <th>y</th>\n",
       "      <th>z</th>\n",
       "      <th>carat</th>\n",
       "      <th>price</th>\n",
       "      <th>volumen</th>\n",
       "      <th>densidad</th>\n",
       "    </tr>\n",
       "  </thead>\n",
       "  <tbody>\n",
       "    <tr>\n",
       "      <th>0</th>\n",
       "      <td>62.4</td>\n",
       "      <td>58.0</td>\n",
       "      <td>6.83</td>\n",
       "      <td>6.79</td>\n",
       "      <td>4.25</td>\n",
       "      <td>1.21</td>\n",
       "      <td>4268</td>\n",
       "      <td>197.096725</td>\n",
       "      <td>162.889855</td>\n",
       "    </tr>\n",
       "    <tr>\n",
       "      <th>1</th>\n",
       "      <td>63.0</td>\n",
       "      <td>57.0</td>\n",
       "      <td>4.35</td>\n",
       "      <td>4.38</td>\n",
       "      <td>2.75</td>\n",
       "      <td>0.32</td>\n",
       "      <td>505</td>\n",
       "      <td>52.395750</td>\n",
       "      <td>163.736719</td>\n",
       "    </tr>\n",
       "    <tr>\n",
       "      <th>2</th>\n",
       "      <td>65.5</td>\n",
       "      <td>55.0</td>\n",
       "      <td>5.62</td>\n",
       "      <td>5.53</td>\n",
       "      <td>3.65</td>\n",
       "      <td>0.71</td>\n",
       "      <td>2686</td>\n",
       "      <td>113.436890</td>\n",
       "      <td>159.770268</td>\n",
       "    </tr>\n",
       "    <tr>\n",
       "      <th>3</th>\n",
       "      <td>63.8</td>\n",
       "      <td>56.0</td>\n",
       "      <td>4.68</td>\n",
       "      <td>4.72</td>\n",
       "      <td>3.00</td>\n",
       "      <td>0.41</td>\n",
       "      <td>738</td>\n",
       "      <td>66.268800</td>\n",
       "      <td>161.631220</td>\n",
       "    </tr>\n",
       "    <tr>\n",
       "      <th>4</th>\n",
       "      <td>60.5</td>\n",
       "      <td>59.0</td>\n",
       "      <td>6.55</td>\n",
       "      <td>6.51</td>\n",
       "      <td>3.95</td>\n",
       "      <td>1.02</td>\n",
       "      <td>4882</td>\n",
       "      <td>168.429975</td>\n",
       "      <td>165.127426</td>\n",
       "    </tr>\n",
       "  </tbody>\n",
       "</table>\n",
       "</div>"
      ],
      "text/plain": [
       "   depth  table     x     y     z  carat  price     volumen    densidad\n",
       "0   62.4   58.0  6.83  6.79  4.25   1.21   4268  197.096725  162.889855\n",
       "1   63.0   57.0  4.35  4.38  2.75   0.32    505   52.395750  163.736719\n",
       "2   65.5   55.0  5.62  5.53  3.65   0.71   2686  113.436890  159.770268\n",
       "3   63.8   56.0  4.68  4.72  3.00   0.41    738   66.268800  161.631220\n",
       "4   60.5   59.0  6.55  6.51  3.95   1.02   4882  168.429975  165.127426"
      ]
     },
     "execution_count": 4,
     "metadata": {},
     "output_type": "execute_result"
    }
   ],
   "source": [
    "diamonds_correlacion.head()"
   ]
  },
  {
   "cell_type": "markdown",
   "metadata": {},
   "source": [
    "PLOTS "
   ]
  },
  {
   "cell_type": "code",
   "execution_count": 5,
   "metadata": {},
   "outputs": [
    {
     "data": {
      "text/plain": [
       "Text(0.5, 1.0, 'depth vs price')"
      ]
     },
     "execution_count": 5,
     "metadata": {},
     "output_type": "execute_result"
    },
    {
     "data": {
      "image/png": "[encoded data removed]",
      "text/plain": [
       "<Figure size 432x288 with 1 Axes>"
      ]
     },
     "metadata": {
      "needs_background": "light"
     },
     "output_type": "display_data"
    }
   ],
   "source": [
    "plt.plot(diamonds_correlacion[\"depth\"], diamonds_correlacion[\"price\"], \"bo\")\n",
    "plt.title(\"depth vs price\")"
   ]
  },
  {
   "cell_type": "code",
   "execution_count": 11,
   "metadata": {},
   "outputs": [
    {
     "data": {
      "text/plain": [
       "Text(0.5, 1.0, 'table vs price')"
      ]
     },
     "execution_count": 11,
     "metadata": {},
     "output_type": "execute_result"
    },
    {
     "data": {
      "image/png": "[encoded data removed]",
      "text/plain": [
       "<Figure size 432x288 with 1 Axes>"
      ]
     },
     "metadata": {
      "needs_background": "light"
     },
     "output_type": "display_data"
    }
   ],
   "source": [
    "plt.plot(diamonds_correlacion[\"table\"], diamonds_correlacion[\"price\"], \"ro\")\n",
    "plt.title(\"table vs price\")"
   ]
  },
  {
   "cell_type": "code",
   "execution_count": 10,
   "metadata": {},
   "outputs": [
    {
     "data": {
      "text/plain": [
       "Text(0.5, 1.0, 'carat vs price')"
      ]
     },
     "execution_count": 10,
     "metadata": {},
     "output_type": "execute_result"
    },
    {
     "data": {
      "image/png": "[encoded data removed]",
      "text/plain": [
       "<Figure size 432x288 with 1 Axes>"
      ]
     },
     "metadata": {
      "needs_background": "light"
     },
     "output_type": "display_data"
    }
   ],
   "source": [
    "plt.plot(diamonds_correlacion[\"carat\"], diamonds_correlacion[\"price\"], \"go\")\n",
    "plt.title(\"carat vs price\")"
   ]
  },
  {
   "cell_type": "code",
   "execution_count": 13,
   "metadata": {},
   "outputs": [
    {
     "data": {
      "text/plain": [
       "Text(0.5, 1.0, 'volumen vs price')"
      ]
     },
     "execution_count": 13,
     "metadata": {},
     "output_type": "execute_result"
    },
    {
     "data": {
      "image/png": "[encoded data removed]",
      "text/plain": [
       "<Figure size 432x288 with 1 Axes>"
      ]
     },
     "metadata": {
      "needs_background": "light"
     },
     "output_type": "display_data"
    }
   ],
   "source": [
    "plt.plot(diamonds_correlacion[\"volumen\"], diamonds_correlacion[\"price\"], \"bo\")\n",
    "plt.title(\"volumen vs price\")"
   ]
  },
  {
   "cell_type": "code",
   "execution_count": 15,
   "metadata": {},
   "outputs": [
    {
     "data": {
      "text/plain": [
       "Text(0.5, 1.0, 'densidad vs price')"
      ]
     },
     "execution_count": 15,
     "metadata": {},
     "output_type": "execute_result"
    },
    {
     "data": {
      "image/png": "[encoded data removed]",
      "text/plain": [
       "<Figure size 432x288 with 1 Axes>"
      ]
     },
     "metadata": {
      "needs_background": "light"
     },
     "output_type": "display_data"
    }
   ],
   "source": [
    "plt.plot(diamonds_correlacion[\"densidad\"], diamonds_correlacion[\"price\"], \"ro\")\n",
    "plt.title(\"densidad vs price\")"
   ]
  },
  {
   "cell_type": "markdown",
   "metadata": {},
   "source": [
    "MATRIZ DE CORRELACION"
   ]
  },
  {
   "cell_type": "code",
   "execution_count": 16,
   "metadata": {},
   "outputs": [
    {
     "data": {
      "text/plain": [
       "<matplotlib.image.AxesImage at 0x7f9af33d46a0>"
      ]
     },
     "execution_count": 16,
     "metadata": {},
     "output_type": "execute_result"
    },
    {
     "data": {
      "image/png": "[encoded data removed]",
      "text/plain": [
       "<Figure size 288x288 with 1 Axes>"
      ]
     },
     "metadata": {
      "needs_background": "light"
     },
     "output_type": "display_data"
    }
   ],
   "source": [
    "plt.matshow(diamonds_correlacion.corr())"
   ]
  },
  {
   "cell_type": "code",
   "execution_count": 17,
   "metadata": {},
   "outputs": [
    {
     "data": {
      "text/html": [
       "<div>\n",
       "<style scoped>\n",
       "    .dataframe tbody tr th:only-of-type {\n",
       "        vertical-align: middle;\n",
       "    }\n",
       "\n",
       "    .dataframe tbody tr th {\n",
       "        vertical-align: top;\n",
       "    }\n",
       "\n",
       "    .dataframe thead th {\n",
       "        text-align: right;\n",
       "    }\n",
       "</style>\n",
       "<table border=\"1\" class=\"dataframe\">\n",
       "  <thead>\n",
       "    <tr style=\"text-align: right;\">\n",
       "      <th></th>\n",
       "      <th>depth</th>\n",
       "      <th>table</th>\n",
       "      <th>x</th>\n",
       "      <th>y</th>\n",
       "      <th>z</th>\n",
       "      <th>carat</th>\n",
       "      <th>price</th>\n",
       "      <th>volumen</th>\n",
       "      <th>densidad</th>\n",
       "    </tr>\n",
       "  </thead>\n",
       "  <tbody>\n",
       "    <tr>\n",
       "      <th>depth</th>\n",
       "      <td>1.000000</td>\n",
       "      <td>-0.293114</td>\n",
       "      <td>-0.026348</td>\n",
       "      <td>-0.030966</td>\n",
       "      <td>0.094655</td>\n",
       "      <td>0.026528</td>\n",
       "      <td>-0.014864</td>\n",
       "      <td>0.006721</td>\n",
       "      <td>-0.143640</td>\n",
       "    </tr>\n",
       "    <tr>\n",
       "      <th>table</th>\n",
       "      <td>-0.293114</td>\n",
       "      <td>1.000000</td>\n",
       "      <td>0.196059</td>\n",
       "      <td>0.184673</td>\n",
       "      <td>0.155189</td>\n",
       "      <td>0.183392</td>\n",
       "      <td>0.130111</td>\n",
       "      <td>0.168437</td>\n",
       "      <td>-0.117363</td>\n",
       "    </tr>\n",
       "    <tr>\n",
       "      <th>x</th>\n",
       "      <td>-0.026348</td>\n",
       "      <td>0.196059</td>\n",
       "      <td>1.000000</td>\n",
       "      <td>0.973712</td>\n",
       "      <td>0.984876</td>\n",
       "      <td>0.975688</td>\n",
       "      <td>0.885848</td>\n",
       "      <td>0.952303</td>\n",
       "      <td>-0.072328</td>\n",
       "    </tr>\n",
       "    <tr>\n",
       "      <th>y</th>\n",
       "      <td>-0.030966</td>\n",
       "      <td>0.184673</td>\n",
       "      <td>0.973712</td>\n",
       "      <td>1.000000</td>\n",
       "      <td>0.964828</td>\n",
       "      <td>0.951667</td>\n",
       "      <td>0.866163</td>\n",
       "      <td>0.977860</td>\n",
       "      <td>0.121528</td>\n",
       "    </tr>\n",
       "    <tr>\n",
       "      <th>z</th>\n",
       "      <td>0.094655</td>\n",
       "      <td>0.155189</td>\n",
       "      <td>0.984876</td>\n",
       "      <td>0.964828</td>\n",
       "      <td>1.000000</td>\n",
       "      <td>0.967570</td>\n",
       "      <td>0.874500</td>\n",
       "      <td>0.953983</td>\n",
       "      <td>-0.035600</td>\n",
       "    </tr>\n",
       "    <tr>\n",
       "      <th>carat</th>\n",
       "      <td>0.026528</td>\n",
       "      <td>0.183392</td>\n",
       "      <td>0.975688</td>\n",
       "      <td>0.951667</td>\n",
       "      <td>0.967570</td>\n",
       "      <td>1.000000</td>\n",
       "      <td>0.921935</td>\n",
       "      <td>0.971851</td>\n",
       "      <td>-0.092878</td>\n",
       "    </tr>\n",
       "    <tr>\n",
       "      <th>price</th>\n",
       "      <td>-0.014864</td>\n",
       "      <td>0.130111</td>\n",
       "      <td>0.885848</td>\n",
       "      <td>0.866163</td>\n",
       "      <td>0.874500</td>\n",
       "      <td>0.921935</td>\n",
       "      <td>1.000000</td>\n",
       "      <td>0.898684</td>\n",
       "      <td>-0.063823</td>\n",
       "    </tr>\n",
       "    <tr>\n",
       "      <th>volumen</th>\n",
       "      <td>0.006721</td>\n",
       "      <td>0.168437</td>\n",
       "      <td>0.952303</td>\n",
       "      <td>0.977860</td>\n",
       "      <td>0.953983</td>\n",
       "      <td>0.971851</td>\n",
       "      <td>0.898684</td>\n",
       "      <td>1.000000</td>\n",
       "      <td>0.134892</td>\n",
       "    </tr>\n",
       "    <tr>\n",
       "      <th>densidad</th>\n",
       "      <td>-0.143640</td>\n",
       "      <td>-0.117363</td>\n",
       "      <td>-0.072328</td>\n",
       "      <td>0.121528</td>\n",
       "      <td>-0.035600</td>\n",
       "      <td>-0.092878</td>\n",
       "      <td>-0.063823</td>\n",
       "      <td>0.134892</td>\n",
       "      <td>1.000000</td>\n",
       "    </tr>\n",
       "  </tbody>\n",
       "</table>\n",
       "</div>"
      ],
      "text/plain": [
       "             depth     table         x         y         z     carat  \\\n",
       "depth     1.000000 -0.293114 -0.026348 -0.030966  0.094655  0.026528   \n",
       "table    -0.293114  1.000000  0.196059  0.184673  0.155189  0.183392   \n",
       "x        -0.026348  0.196059  1.000000  0.973712  0.984876  0.975688   \n",
       "y        -0.030966  0.184673  0.973712  1.000000  0.964828  0.951667   \n",
       "z         0.094655  0.155189  0.984876  0.964828  1.000000  0.967570   \n",
       "carat     0.026528  0.183392  0.975688  0.951667  0.967570  1.000000   \n",
       "price    -0.014864  0.130111  0.885848  0.866163  0.874500  0.921935   \n",
       "volumen   0.006721  0.168437  0.952303  0.977860  0.953983  0.971851   \n",
       "densidad -0.143640 -0.117363 -0.072328  0.121528 -0.035600 -0.092878   \n",
       "\n",
       "             price   volumen  densidad  \n",
       "depth    -0.014864  0.006721 -0.143640  \n",
       "table     0.130111  0.168437 -0.117363  \n",
       "x         0.885848  0.952303 -0.072328  \n",
       "y         0.866163  0.977860  0.121528  \n",
       "z         0.874500  0.953983 -0.035600  \n",
       "carat     0.921935  0.971851 -0.092878  \n",
       "price     1.000000  0.898684 -0.063823  \n",
       "volumen   0.898684  1.000000  0.134892  \n",
       "densidad -0.063823  0.134892  1.000000  "
      ]
     },
     "execution_count": 17,
     "metadata": {},
     "output_type": "execute_result"
    }
   ],
   "source": [
    "diamonds_correlacion.corr()"
   ]
  }
 ],
 "metadata": {
  "interpreter": {
   "hash": "d3484265c846c5d9d894e2707c527550b67fc6c0600c635bd834091d9672201f"
  },
  "kernelspec": {
   "display_name": "Python 3.9.7 64-bit ('SCIKIT-LEARN': conda)",
   "language": "python",
   "name": "python3"
  },
  "language_info": {
   "codemirror_mode": {
    "name": "ipython",
    "version": 3
   },
   "file_extension": ".py",
   "mimetype": "text/x-python",
   "name": "python",
   "nbconvert_exporter": "python",
   "pygments_lexer": "ipython3",
   "version": "3.9.7"
  },
  "orig_nbformat": 4
 },
 "nbformat": 4,
 "nbformat_minor": 2
}
